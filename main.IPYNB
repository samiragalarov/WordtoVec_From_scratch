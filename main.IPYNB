{
 "cells": [
  {
   "cell_type": "markdown",
   "metadata": {},
   "source": [
    "## Tokenize"
   ]
  },
  {
   "cell_type": "code",
   "execution_count": 528,
   "metadata": {},
   "outputs": [],
   "source": [
    "import re\n",
    "import numpy as np\n",
    "\n",
    "def tokenize(text):\n",
    "  pattern = re.compile(r'[A-Za-z]+[\\w^\\']*|[\\w^\\']*[A-Za-z]+[\\w^\\']*')\n",
    "  return pattern.findall(text.lower())"
   ]
  },
  {
   "cell_type": "markdown",
   "metadata": {},
   "source": [
    "## Mapping"
   ]
  },
  {
   "cell_type": "code",
   "execution_count": 529,
   "metadata": {},
   "outputs": [],
   "source": [
    "def mapping(text_array):\n",
    "\n",
    "  idx_to_word = {}\n",
    "  word_to_idx = {}\n",
    "\n",
    "  i=0; j=0\n",
    "  for idx, word in enumerate(text_array):\n",
    "    if word not in idx_to_word.values():\n",
    "      idx_to_word[i] = word\n",
    "      i+=1\n",
    "      \n",
    "    \n",
    "    if word not in word_to_idx.keys():\n",
    "      word_to_idx[word] = j\n",
    "      j+=1\n",
    "      \n",
    "\n",
    "  return idx_to_word, word_to_idx"
   ]
  },
  {
   "cell_type": "markdown",
   "metadata": {},
   "source": [
    "## OHE"
   ]
  },
  {
   "cell_type": "code",
   "execution_count": 530,
   "metadata": {},
   "outputs": [],
   "source": [
    "def one_hot_encoding(text_array, word_to_idx, window_size):\n",
    "\n",
    "  matrix = []\n",
    "\n",
    "  for idx, word in enumerate(text_array):\n",
    "    \n",
    "    center_vec = [0 for w in word_to_idx]\n",
    "    center_vec[word_to_idx[word]] = 1\n",
    "\n",
    "    context_vec = []\n",
    "    for i in range(-window_size, window_size+1):\n",
    "      \n",
    "      if i == 0 or idx+i < 0 or idx+i >= len(text_array) or word == text_array[idx+i]:\n",
    "        continue\n",
    "      \n",
    "      temp = [0 for w in word_to_idx]\n",
    "      temp[word_to_idx[text_array[idx+i]]] = 1 \n",
    "\n",
    "      context_vec.append(temp)\n",
    "      \n",
    "    matrix.append([center_vec, context_vec])\n",
    "    \n",
    "\n",
    "  return matrix"
   ]
  },
  {
   "cell_type": "code",
   "execution_count": 531,
   "metadata": {},
   "outputs": [
    {
     "data": {
      "text/plain": [
       "({'hello': 0, 'my': 1, 'name': 2, 'is': 3, 'samir': 4},\n",
       " ['hello', 'my', 'name', 'is', 'samir', 'hello'],\n",
       " [[[1, 0, 0, 0, 0], [[0, 1, 0, 0, 0], [0, 0, 1, 0, 0]]],\n",
       "  [[0, 1, 0, 0, 0], [[1, 0, 0, 0, 0], [0, 0, 1, 0, 0], [0, 0, 0, 1, 0]]],\n",
       "  [[0, 0, 1, 0, 0],\n",
       "   [[1, 0, 0, 0, 0], [0, 1, 0, 0, 0], [0, 0, 0, 1, 0], [0, 0, 0, 0, 1]]],\n",
       "  [[0, 0, 0, 1, 0],\n",
       "   [[0, 1, 0, 0, 0], [0, 0, 1, 0, 0], [0, 0, 0, 0, 1], [1, 0, 0, 0, 0]]],\n",
       "  [[0, 0, 0, 0, 1], [[0, 0, 1, 0, 0], [0, 0, 0, 1, 0], [1, 0, 0, 0, 0]]],\n",
       "  [[1, 0, 0, 0, 0], [[0, 0, 0, 1, 0], [0, 0, 0, 0, 1]]]])"
      ]
     },
     "execution_count": 531,
     "metadata": {},
     "output_type": "execute_result"
    }
   ],
   "source": [
    "text = 'Hello my name Is Samir Hello'\n",
    "tokens = tokenize(text)\n",
    "idxs, words = mapping(tokens)\n",
    "mat = one_hot_encoding(tokens, words, window_size=2)\n",
    "\n",
    "words, tokens ,mat"
   ]
  },
  {
   "cell_type": "markdown",
   "metadata": {},
   "source": [
    "## Softmax\n",
    "<img src=\"./images/1702141708293.png\">\n",
    "<img src=\"./images/1702141667442.png\">"
   ]
  },
  {
   "cell_type": "code",
   "execution_count": 532,
   "metadata": {},
   "outputs": [],
   "source": [
    "def softmax(u):\n",
    "  return [np.exp(u_j) / np.sum(np.exp(u)) for u_j in u]"
   ]
  },
  {
   "cell_type": "markdown",
   "metadata": {},
   "source": [
    "## Forward pass\n",
    "<img src=\"./images/1702141784119.png\">"
   ]
  },
  {
   "cell_type": "code",
   "execution_count": 533,
   "metadata": {},
   "outputs": [],
   "source": [
    "def forward_pass(wt, w1, w2):\n",
    "\n",
    "  wt = np.array(wt)\n",
    "\n",
    "  h = np.dot(wt.T, w1)\n",
    "\n",
    "  u = np.dot(h, w2)\n",
    "  \n",
    "  return softmax(u), h, u"
   ]
  },
  {
   "cell_type": "markdown",
   "metadata": {},
   "source": [
    "## Loss\n",
    "<img src=\"./images/1702145131809.png\">\n"
   ]
  },
  {
   "cell_type": "code",
   "execution_count": 534,
   "metadata": {},
   "outputs": [],
   "source": [
    "def loss(w_c, u):\n",
    "  return -np.sum([u[word.index(1)] for word in w_c]) + len(w_c) * np.log(np.sum(np.exp(u)))"
   ]
  },
  {
   "cell_type": "markdown",
   "metadata": {},
   "source": [
    "## Error\n",
    "<img src=\"./images/1702145162605.png\">\n",
    "<img src=\"./images/1702145168639.png\">\n",
    "<img src=\"./images/1702145175905.png\">"
   ]
  },
  {
   "cell_type": "code",
   "execution_count": 535,
   "metadata": {},
   "outputs": [],
   "source": [
    "def error(out, w_c):\n",
    "  out = np.array(out) \n",
    "  w_c = np.array(w_c)\n",
    "\n",
    "  return np.sum([np.subtract(out, w) for w in w_c], axis=0)"
   ]
  },
  {
   "cell_type": "markdown",
   "metadata": {},
   "source": [
    "## Backpropagation"
   ]
  },
  {
   "cell_type": "code",
   "execution_count": 536,
   "metadata": {},
   "outputs": [],
   "source": [
    "def backprop(out, word, w1, w2, h):\n",
    "  err = error(out, word[1]).T\n",
    "\n",
    "  dw2 = np.outer(err, h)\n",
    "  EH = np.dot(err, w2.T)\n",
    "  dw1 = np.outer(EH, np.array(word[0]).T)\n",
    "\n",
    "  return dw1.T, dw2.T"
   ]
  },
  {
   "cell_type": "markdown",
   "metadata": {},
   "source": [
    "<img src=\"./images/1702145244596.png\">\n",
    "<img src=\"./images/1702145254830.png\">"
   ]
  },
  {
   "cell_type": "code",
   "execution_count": 537,
   "metadata": {},
   "outputs": [],
   "source": [
    "def learning(w1, w2, dw1, dw2, lr):\n",
    "  w1 = np.subtract(w1, np.multiply(lr, dw1))\n",
    "  w2 = np.subtract(w2, np.multiply(lr, dw2))\n",
    "\n",
    "  return w1, w2\n"
   ]
  },
  {
   "cell_type": "markdown",
   "metadata": {},
   "source": [
    "## Train"
   ]
  },
  {
   "cell_type": "code",
   "execution_count": 538,
   "metadata": {},
   "outputs": [],
   "source": [
    "def train(words, vocab, lr, epochs, dim):\n",
    "\n",
    "  w1 = np.random.uniform(-1, 1, (len(vocab), dim)) * 0.01\n",
    "  w2 = np.random.uniform(-1, 1, (dim, len(vocab))) * 0.01\n",
    "\n",
    "  history = {}\n",
    "  for e in range(epochs):\n",
    "\n",
    "    l = 0\n",
    "\n",
    "    for word in words:\n",
    "      out, h, u = forward_pass(word[0], w1, w2)\n",
    "      dw1, dw2 = backprop(out, word, w1, w2, h)\n",
    "      w1, w2 = learning(w1, w2, dw1, dw2, lr)\n",
    "\n",
    "      l += loss(word[1], u)\n",
    "    \n",
    "    if e % 100 == 0:\n",
    "      history[e] = l\n",
    "  \n",
    "  return w1, w2, history"
   ]
  },
  {
   "cell_type": "markdown",
   "metadata": {},
   "source": [
    "## Predict"
   ]
  },
  {
   "cell_type": "code",
   "execution_count": 539,
   "metadata": {},
   "outputs": [],
   "source": [
    "def predict(word, w1, w2, matrix, words, indices):\n",
    "  word = word.lower()\n",
    "  out, _, _ = forward_pass(matrix[words[word]][0], w1, w2)\n",
    "\n",
    "  most_likely_idxs = np.array(out).argsort()[-4:][::-1]\n",
    "  return [indices[w] for w in most_likely_idxs]"
   ]
  },
  {
   "cell_type": "code",
   "execution_count": 540,
   "metadata": {},
   "outputs": [],
   "source": [
    "text1 = 'I like reading The Witcher books every night'\n",
    "text = \"\"\"\n",
    "The future king is the prince\n",
    "Daughter is the princess\n",
    "Son is the prince\n",
    "Only a man can be a king\n",
    "Only a woman can be a queen\n",
    "The princess will be a queen\n",
    "The prince is a strong man\n",
    "The princess is a beautiful woman\n",
    "Prince is only a boy now\n",
    "Prince will be king\n",
    "A boy will be a man\n",
    "\"\"\"\n",
    "tokens = tokenize(text)\n",
    "idxs, words = mapping(tokens)\n",
    "mat = one_hot_encoding(tokens, words, window_size=2)\n",
    "\n",
    "w1, w2, history = train(mat, words, lr=0.01, epochs=1000, dim=2)"
   ]
  },
  {
   "cell_type": "code",
   "execution_count": 544,
   "metadata": {},
   "outputs": [
    {
     "data": {
      "text/plain": [
       "['the', 'is', 'prince', 'a']"
      ]
     },
     "execution_count": 544,
     "metadata": {},
     "output_type": "execute_result"
    }
   ],
   "source": [
    "predict('woman', w1, w2, mat, words, idxs)\n"
   ]
  },
  {
   "cell_type": "code",
   "execution_count": 543,
   "metadata": {},
   "outputs": [
    {
     "data": {
      "image/png": "[encoded data removed]",
      "text/plain": [
       "<Figure size 640x480 with 1 Axes>"
      ]
     },
     "metadata": {},
     "output_type": "display_data"
    }
   ],
   "source": [
    "x_values = [point[0] for point in w1]\n",
    "y_values = [point[1] for point in w1]\n",
    "\n",
    "# Create scatter plot\n",
    "plt.scatter(x_values, y_values)\n",
    "\n",
    "# Add labels based on the dictionary\n",
    "for word, idx in words.items():\n",
    "    plt.annotate(word, (x_values[idx], y_values[idx]), textcoords=\"offset points\", xytext=(0, 5), ha='center')\n",
    "\n",
    "# Add axis labels\n",
    "plt.xlabel('First Value (x)')\n",
    "plt.ylabel('Second Value (y)')\n",
    "\n",
    "# Show the plot\n",
    "plt.show()"
   ]
  }
 ],
 "metadata": {
  "kernelspec": {
   "display_name": "Python 3",
   "language": "python",
   "name": "python3"
  },
  "language_info": {
   "codemirror_mode": {
    "name": "ipython",
    "version": 3
   },
   "file_extension": ".py",
   "mimetype": "text/x-python",
   "name": "python",
   "nbconvert_exporter": "python",
   "pygments_lexer": "ipython3",
   "version": "3.11.4"
  }
 },
 "nbformat": 4,
 "nbformat_minor": 2
}
